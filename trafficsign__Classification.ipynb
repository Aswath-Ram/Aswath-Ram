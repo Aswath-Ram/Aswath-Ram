{
  "nbformat": 4,
  "nbformat_minor": 0,
  "metadata": {
    "colab": {
      "name": "trafficsign _Classification.ipynb",
      "provenance": [],
      "collapsed_sections": [],
      "authorship_tag": "ABX9TyMB5mJlo9ntL9gBWcbH5QyF",
      "include_colab_link": true
    },
    "kernelspec": {
      "name": "python3",
      "display_name": "Python 3"
    },
    "language_info": {
      "name": "python"
    },
    "accelerator": "GPU"
  },
  "cells": [
    {
      "cell_type": "markdown",
      "metadata": {
        "id": "view-in-github",
        "colab_type": "text"
      },
      "source": [
        "<a href=\"https://colab.research.google.com/github/Aswath-Ram/Aswath-Ram/blob/main/trafficsign__Classification.ipynb\" target=\"_parent\"><img src=\"https://colab.research.google.com/assets/colab-badge.svg\" alt=\"Open In Colab\"/></a>"
      ]
    },
    {
      "cell_type": "code",
      "metadata": {
        "id": "AplA0DOdpFPC"
      },
      "source": [
        "from google.colab import drive\n",
        "import numpy as np\n",
        "import tensorflow as tf\n",
        "from tensorflow import keras\n",
        "from keras.models import Sequential\n",
        "from keras.optimizers import Adam\n",
        "from keras.layers import Conv2D, MaxPooling2D, Dropout, Flatten, Dense, LSTM, Reshape, Input, Concatenate, GlobalMaxPool2D\n",
        "from keras.models import Model\n",
        "import pickle as pkl\n",
        "import matplotlib.pyplot as plt\n",
        "from sklearn.utils import shuffle\n",
        "from imgaug import augmenters as aa \n",
        "import cv2\n",
        "import random\n"
      ],
      "execution_count": 3,
      "outputs": []
    },
    {
      "cell_type": "markdown",
      "metadata": {
        "id": "d-CPHZhD7Yc6"
      },
      "source": [
        "This is the signs classification code"
      ]
    },
    {
      "cell_type": "code",
      "metadata": {
        "colab": {
          "base_uri": "https://localhost:8080/"
        },
        "id": "fpHg_DdFyz_c",
        "outputId": "464bbacf-91b2-4aa8-f939-c54c3ebb2a9c"
      },
      "source": [
        "#loading dataset from the drive\n",
        "#dataset used here is the german Traffic sign dataset, with 43 classes \n",
        "drive.mount('/content/drive')"
      ],
      "execution_count": 4,
      "outputs": [
        {
          "output_type": "stream",
          "text": [
            "Mounted at /content/drive\n"
          ],
          "name": "stdout"
        }
      ]
    },
    {
      "cell_type": "code",
      "metadata": {
        "id": "tbDybqL70QHy"
      },
      "source": [
        "train_file = \"/content/drive/My Drive/traffic_Sign_501/train.p\"\n",
        "valid_file= \"/content/drive/My Drive/traffic_Sign_501/valid.p\"\n",
        "test_file = \"/content/drive/My Drive/traffic_Sign_501/test.p\"\n",
        "with open(train_file, mode='rb') as f:\n",
        "    train = pkl.load(f)\n",
        "with open(valid_file, mode='rb') as f:\n",
        "    valid = pkl.load(f)\n",
        "with open(test_file, mode='rb') as f:\n",
        "    test = pkl.load(f)\n",
        "WIDTH = 32\n",
        "HEIGHT = 32\n"
      ],
      "execution_count": 8,
      "outputs": []
    },
    {
      "cell_type": "code",
      "metadata": {
        "colab": {
          "base_uri": "https://localhost:8080/"
        },
        "id": "cwzxR2SX0rUp",
        "outputId": "085c4a81-fd77-45e6-d5c9-d976057c7faf"
      },
      "source": [
        "X_train = train['features']\n",
        "Y_train = train['labels']\n",
        "print('features shape:',X_train.shape)\n",
        "print('Labels:',Y_train.shape)"
      ],
      "execution_count": 10,
      "outputs": [
        {
          "output_type": "stream",
          "text": [
            "features shape: (34799, 32, 32, 3)\n",
            "Labels: (34799,)\n"
          ],
          "name": "stdout"
        }
      ]
    },
    {
      "cell_type": "code",
      "metadata": {
        "colab": {
          "base_uri": "https://localhost:8080/"
        },
        "id": "aErhnu3-1OFh",
        "outputId": "07e16c62-8fdc-4911-b906-5588d4016822"
      },
      "source": [
        "X_valid = valid['features']\n",
        "y_valid = valid['labels']\n",
        "\n",
        "X_valid = np.array(X_valid)\n",
        "y_valid = np.array(y_valid)\n",
        "\n",
        "print(X_valid.shape)\n",
        "print(y_valid.shape)"
      ],
      "execution_count": 11,
      "outputs": [
        {
          "output_type": "stream",
          "text": [
            "(4410, 32, 32, 3)\n",
            "(4410,)\n"
          ],
          "name": "stdout"
        }
      ]
    },
    {
      "cell_type": "code",
      "metadata": {
        "colab": {
          "base_uri": "https://localhost:8080/",
          "height": 295
        },
        "id": "2zlxPsFA1ZDB",
        "outputId": "539822e3-98a2-4891-94ca-e43881e70eb1"
      },
      "source": [
        "num_bins = 43\n",
        "samples_per_bin = 250\n",
        "plt.hist(Y_train, bins =num_bins,rwidth=0.8)\n",
        "plt.plot((np.min(Y_train), np.max(Y_train)), (samples_per_bin, samples_per_bin))\n",
        "plt.title('Unbalanced Dataset')\n",
        "plt.xlabel('Class')\n",
        "plt.ylabel('No.of training Images')\n",
        "plt.show()\n",
        "\n",
        "_, bins = np.histogram(Y_train, num_bins)"
      ],
      "execution_count": 15,
      "outputs": [
        {
          "output_type": "display_data",
          "data": {
            "image/png": "[encoded data removed]",
            "text/plain": [
              "<Figure size 432x288 with 1 Axes>"
            ]
          },
          "metadata": {
            "tags": [],
            "needs_background": "light"
          }
        }
      ]
    },
    {
      "cell_type": "code",
      "metadata": {
        "colab": {
          "base_uri": "https://localhost:8080/"
        },
        "id": "T3sG6T_M1dDZ",
        "outputId": "66199e7c-975c-4a86-89cc-27c90ba3bc8d"
      },
      "source": [
        "#Data has to be balanced before training \n",
        "print ('total data:', len(X_train))\n",
        "remove_list = []\n",
        "for j in range(num_bins):\n",
        "  list_ = []\n",
        "  for i in range(len(Y_train)):\n",
        "    if Y_train[i]>= bins[j] and Y_train[i]<=bins[j+1]:\n",
        "      list_.append(i)\n",
        "  list_ = shuffle(list_)\n",
        "  #print(list_)\n",
        "  if len(list_)>samples_per_bin:\n",
        "    list_ = list_[samples_per_bin:]\n",
        "    remove_list.extend(list_)\n",
        "\n",
        "print('removed:', len(remove_list))\n",
        "\n",
        "X_train = np.delete(X_train, remove_list, axis=0)\n",
        "print ('remaining images:', len (X_train))\n",
        "\n",
        "Y_train = np.delete(Y_train, remove_list, axis=0)\n",
        "print ('remaining labels:', len (Y_train))"
      ],
      "execution_count": 25,
      "outputs": [
        {
          "output_type": "stream",
          "text": [
            "total data: 10360\n",
            "removed: 0\n",
            "remaining images: 10360\n",
            "remaining labels: 10360\n"
          ],
          "name": "stdout"
        }
      ]
    },
    {
      "cell_type": "code",
      "metadata": {
        "colab": {
          "base_uri": "https://localhost:8080/",
          "height": 295
        },
        "id": "dWCuNtlO2IzO",
        "outputId": "205cefa7-57d0-40da-e953-6abc0e5d9f86"
      },
      "source": [
        "num_bins = 43\n",
        "samples_per_bin = 500\n",
        "plt.hist(Y_train, bins =num_bins,rwidth=0.8)\n",
        "plt.title('After balncing the dataset')\n",
        "plt.xlabel('Class Id')\n",
        "plt.ylabel('No.of Images')\n",
        "plt.show()"
      ],
      "execution_count": 26,
      "outputs": [
        {
          "output_type": "display_data",
          "data": {
            "image/png": "[encoded data removed]",
            "text/plain": [
              "<Figure size 432x288 with 1 Axes>"
            ]
          },
          "metadata": {
            "tags": [],
            "needs_background": "light"
          }
        }
      ]
    },
    {
      "cell_type": "code",
      "metadata": {
        "id": "c0wODUB73trf"
      },
      "source": [
        "#image augmentation and dataset augmentation(\"taking care of the intensity mismatch in image part, zooming effect\")\n",
        "def zoom(image):\n",
        "  zoom_img = aa.Affine(scale = (0.9, 1.3))\n",
        "  image = zoom_img.augment_image(image)\n",
        "  return image"
      ],
      "execution_count": 27,
      "outputs": []
    },
    {
      "cell_type": "code",
      "metadata": {
        "colab": {
          "base_uri": "https://localhost:8080/",
          "height": 574
        },
        "id": "-ldykUpT37lO",
        "outputId": "d1347c13-55c9-4c54-8c46-e59f220b7aaa"
      },
      "source": [
        "index = random.randint(0,len(X_train)-1)\n",
        "image= X_train[index]\n",
        "label= Y_train [index]\n",
        "zoomed_image = zoom(image)\n",
        "\n",
        "fig, axs = plt.subplots(1, 2, figsize=(15, 10))\n",
        "fig.tight_layout()\n",
        "axs[0].imshow(image)\n",
        "axs[0].set_title('Original Image')\n",
        "axs[1].imshow(zoomed_image)\n",
        "axs[1].set_title('Zoomed Image')\n",
        "\n",
        "print(label)"
      ],
      "execution_count": 28,
      "outputs": [
        {
          "output_type": "stream",
          "text": [
            "37\n"
          ],
          "name": "stdout"
        },
        {
          "output_type": "display_data",
          "data": {
            "image/png": "[encoded data removed]",
            "text/plain": [
              "<Figure size 1080x720 with 2 Axes>"
            ]
          },
          "metadata": {
            "tags": [],
            "needs_background": "light"
          }
        }
      ]
    },
    {
      "cell_type": "code",
      "metadata": {
        "id": "BWfH_Xnw4IKs"
      },
      "source": [
        "def pan(image):\n",
        "  pan = aa.Affine(translate_percent={'x': (-0.1, 0.1), 'y': (-0.1, 0.1)})\n",
        "  image = pan.augment_image(image)\n",
        "  return image"
      ],
      "execution_count": 29,
      "outputs": []
    },
    {
      "cell_type": "code",
      "metadata": {
        "colab": {
          "base_uri": "https://localhost:8080/",
          "height": 574
        },
        "id": "n5FxDeB44OxX",
        "outputId": "07b7e3b2-328f-40ef-802b-750df4bf3a88"
      },
      "source": [
        "index = random.randint(0,len(X_train)-1)\n",
        "image= X_train[index]\n",
        "label= Y_train [index]\n",
        "panned_image = pan(image)\n",
        "\n",
        "fig, axs = plt.subplots(1, 2, figsize=(15, 10))\n",
        "fig.tight_layout()\n",
        "axs[0].imshow(image)\n",
        "axs[0].set_title('Original Image')\n",
        "axs[1].imshow(panned_image)\n",
        "axs[1].set_title('Panned Image')\n",
        "\n",
        "print(label)"
      ],
      "execution_count": 31,
      "outputs": [
        {
          "output_type": "stream",
          "text": [
            "24\n"
          ],
          "name": "stdout"
        },
        {
          "output_type": "display_data",
          "data": {
            "image/png": "[encoded data removed]",
            "text/plain": [
              "<Figure size 1080x720 with 2 Axes>"
            ]
          },
          "metadata": {
            "tags": [],
            "needs_background": "light"
          }
        }
      ]
    },
    {
      "cell_type": "code",
      "metadata": {
        "id": "ogTT6osp4TX5"
      },
      "source": [
        "def img_random_brightness(image):\n",
        "  brightness = aa.Multiply((0.2, 1.8))\n",
        "  image = brightness.augment_image(image)\n",
        "  return image"
      ],
      "execution_count": 32,
      "outputs": []
    },
    {
      "cell_type": "code",
      "metadata": {
        "id": "Kl3xGXwA4ZkJ"
      },
      "source": [
        "augmented_zoom_image = []\n",
        "augmented_zoom_label = []\n",
        "\n",
        "for i in range(len(Y_train)):\n",
        "  img = X_train[i]\n",
        "  label = Y_train[i]\n",
        "  zoomed_img = zoom(img)\n",
        "  augmented_zoom_image.append(zoomed_img)\n",
        "  augmented_zoom_label.append(label)\n"
      ],
      "execution_count": 34,
      "outputs": []
    },
    {
      "cell_type": "code",
      "metadata": {
        "id": "ovqqkljD4_kr"
      },
      "source": [
        "augmented_pan_image = []\n",
        "augmented_pan_label = []\n",
        "\n",
        "for i in range(len(Y_train)):\n",
        "  img = X_train[i]\n",
        "  label = Y_train[i]\n",
        "  panned_img = pan(img)\n",
        "  augmented_pan_image.append(panned_img)\n",
        "  augmented_pan_label.append(label)"
      ],
      "execution_count": 35,
      "outputs": []
    },
    {
      "cell_type": "code",
      "metadata": {
        "id": "sRW9XcMW5MYk"
      },
      "source": [
        "augmented_bright_image = []\n",
        "augmented_bright_label = []\n",
        "\n",
        "for i in range(len(Y_train)):\n",
        "  img = X_train[i]\n",
        "  label = Y_train[i]\n",
        "  bright_img = img_random_brightness(img)\n",
        "  augmented_bright_image.append(bright_img)\n",
        "  augmented_bright_label.append(label)"
      ],
      "execution_count": 37,
      "outputs": []
    },
    {
      "cell_type": "code",
      "metadata": {
        "colab": {
          "base_uri": "https://localhost:8080/"
        },
        "id": "0LviFmjR5kJf",
        "outputId": "f9cfb21c-0d98-49cb-aef3-32369b333a37"
      },
      "source": [
        "print(' Before Augmentation(Image):', X_train.shape)\n",
        "print(' Before Augmentation(Label):', Y_train.shape)\n",
        "#change to np array\n",
        "augmented_zoom_image = np.array(augmented_zoom_image)\n",
        "augmented_pan_image = np.array(augmented_pan_image)\n",
        "augmented_bright_image = np.array(augmented_bright_image)\n",
        "X_train = np.array(X_train)\n",
        "#concatenate\n",
        "X_train = np.concatenate((X_train, augmented_zoom_image, augmented_pan_image, augmented_bright_image))\n",
        "\n",
        "\n",
        "#change to np array\n",
        "augmented_zoom_label = np.array(augmented_zoom_label) #250\n",
        "augmented_pan_label = np.array(augmented_pan_label) #250\n",
        "augmented_bright_label = np.array(augmented_bright_label) #250\n",
        "Y_train = np.array(Y_train) #250\n",
        "#concatenate\n",
        "Y_train = np.concatenate((Y_train, augmented_zoom_label, augmented_pan_label, augmented_bright_label))\n",
        "\n",
        "print(' After Augmentation(Image):', X_train.shape)\n",
        "print(' After Augmentation(Label):', Y_train.shape)"
      ],
      "execution_count": 38,
      "outputs": [
        {
          "output_type": "stream",
          "text": [
            " Before Augmentation(Image): (10360, 32, 32, 3)\n",
            " Before Augmentation(Label): (10360,)\n",
            " After Augmentation(Image): (41440, 32, 32, 3)\n",
            " After Augmentation(Label): (41440,)\n"
          ],
          "name": "stdout"
        }
      ]
    },
    {
      "cell_type": "code",
      "metadata": {
        "colab": {
          "base_uri": "https://localhost:8080/",
          "height": 295
        },
        "id": "eGws045-6HVk",
        "outputId": "9ac37870-5e39-4087-9ae9-5c92f4cecd33"
      },
      "source": [
        "num_bins = 43\n",
        "plt.hist(Y_train, bins =num_bins,rwidth=0.8)\n",
        "plt.title('User Expanded Dataset')\n",
        "plt.xlabel('Class Id')\n",
        "plt.ylabel('No.of Images')\n",
        "plt.show()"
      ],
      "execution_count": 39,
      "outputs": [
        {
          "output_type": "display_data",
          "data": {
            "image/png": "[encoded data removed]",
            "text/plain": [
              "<Figure size 432x288 with 1 Axes>"
            ]
          },
          "metadata": {
            "tags": [],
            "needs_background": "light"
          }
        }
      ]
    },
    {
      "cell_type": "code",
      "metadata": {
        "id": "JsQtZPi46PMf"
      },
      "source": [
        "def CNN_Model():\n",
        "  model = Sequential()\n",
        "\n",
        "  #1st layer\n",
        "  model.add(Conv2D(24, kernel_size=(5,5), strides=(1,1), input_shape=(WIDTH, HEIGHT,3), activation='relu'))\n",
        "\n",
        "  #2nd layer\n",
        "  model.add(Conv2D(36, kernel_size=(5,5), strides=(1,1), activation='relu'))\n",
        "\n",
        "  #3rd layer\n",
        "  model.add(Conv2D(48, kernel_size=(5,5), strides=(1,1), activation='relu'))\n",
        "  \n",
        "  #4th layer\n",
        "  model.add(Conv2D(64, kernel_size=(3,3), activation='relu'))\n",
        "\n",
        "  #5th layer\n",
        "  model.add(Conv2D(64, kernel_size=(3,3), activation='relu'))\n",
        "\n",
        "\n",
        "  #1st Dense Layer\n",
        "  model.add(Flatten())\n",
        "  model.add(Dense(250, activation='relu'))\n",
        "  #model.add(Dropout(0.5))\n",
        "\n",
        "  #2nd Dense Layer\n",
        "  model.add(Dense(125, activation='relu'))\n",
        "  #model.add(Dropout(0.5))\n",
        "\n",
        "  #3rd Dense Layer\n",
        "  model.add(Dense(75, activation='relu'))\n",
        "  #model.add(Dropout(0.5))\n",
        "\n",
        "  #output\n",
        "  model.add(Dense(43, activation='softmax'))\n",
        "  \n",
        "  #Compile model\n",
        "  model.compile(Adam(lr=0.0001), loss = 'categorical_crossentropy', metrics = ['accuracy'])\n",
        "  return model"
      ],
      "execution_count": 41,
      "outputs": []
    },
    {
      "cell_type": "code",
      "metadata": {
        "colab": {
          "base_uri": "https://localhost:8080/"
        },
        "id": "IQ7FgJ0u6gdX",
        "outputId": "b4fedbef-7f7a-40d0-c210-e4a58717f16e"
      },
      "source": [
        "model = CNN_Model()\n",
        "model.summary()"
      ],
      "execution_count": 42,
      "outputs": [
        {
          "output_type": "stream",
          "text": [
            "Model: \"sequential\"\n",
            "_________________________________________________________________\n",
            "Layer (type)                 Output Shape              Param #   \n",
            "=================================================================\n",
            "conv2d (Conv2D)              (None, 28, 28, 24)        1824      \n",
            "_________________________________________________________________\n",
            "conv2d_1 (Conv2D)            (None, 24, 24, 36)        21636     \n",
            "_________________________________________________________________\n",
            "conv2d_2 (Conv2D)            (None, 20, 20, 48)        43248     \n",
            "_________________________________________________________________\n",
            "conv2d_3 (Conv2D)            (None, 18, 18, 64)        27712     \n",
            "_________________________________________________________________\n",
            "conv2d_4 (Conv2D)            (None, 16, 16, 64)        36928     \n",
            "_________________________________________________________________\n",
            "flatten (Flatten)            (None, 16384)             0         \n",
            "_________________________________________________________________\n",
            "dense (Dense)                (None, 250)               4096250   \n",
            "_________________________________________________________________\n",
            "dense_1 (Dense)              (None, 125)               31375     \n",
            "_________________________________________________________________\n",
            "dense_2 (Dense)              (None, 75)                9450      \n",
            "_________________________________________________________________\n",
            "dense_3 (Dense)              (None, 43)                3268      \n",
            "=================================================================\n",
            "Total params: 4,271,691\n",
            "Trainable params: 4,271,691\n",
            "Non-trainable params: 0\n",
            "_________________________________________________________________\n"
          ],
          "name": "stdout"
        },
        {
          "output_type": "stream",
          "text": [
            "/usr/local/lib/python3.7/dist-packages/tensorflow/python/keras/optimizer_v2/optimizer_v2.py:375: UserWarning: The `lr` argument is deprecated, use `learning_rate` instead.\n",
            "  \"The `lr` argument is deprecated, use `learning_rate` instead.\")\n"
          ],
          "name": "stderr"
        }
      ]
    },
    {
      "cell_type": "code",
      "metadata": {
        "id": "QlALgP4Q6xJ_"
      },
      "source": [
        "def labels_to_one_hot(y_labels, num_classes):\n",
        "  matrix_eye = np.eye(num_classes)\n",
        "  y_labels_array = []\n",
        "  for i in range(len(y_labels)):\n",
        "    y_labels_array.append(matrix_eye[:,y_labels[i]])\n",
        "  return np.array(y_labels_array)"
      ],
      "execution_count": 43,
      "outputs": []
    },
    {
      "cell_type": "code",
      "metadata": {
        "colab": {
          "base_uri": "https://localhost:8080/"
        },
        "id": "wNdPUJ8g7i6H",
        "outputId": "aef99f7e-afa0-48e0-f980-aee131c7f455"
      },
      "source": [
        "y_train = labels_to_one_hot(Y_train, 43)\n",
        "y_valid = labels_to_one_hot(y_valid, 43)\n",
        "\n",
        "print(y_train.shape)\n",
        "print(y_valid.shape)"
      ],
      "execution_count": 45,
      "outputs": [
        {
          "output_type": "stream",
          "text": [
            "(41440, 43)\n",
            "(4410, 43)\n"
          ],
          "name": "stdout"
        }
      ]
    },
    {
      "cell_type": "code",
      "metadata": {
        "colab": {
          "base_uri": "https://localhost:8080/"
        },
        "id": "_Epw6B4Z7mwN",
        "outputId": "c6806b8f-d277-45b5-9c8b-6902f1deb4fd"
      },
      "source": [
        "history = model.fit(x=X_train, y=y_train, \n",
        "                    batch_size=32, \n",
        "                    epochs=10, \n",
        "                    verbose=1, \n",
        "                    validation_data=(X_valid, y_valid), \n",
        "                    shuffle=True)"
      ],
      "execution_count": 46,
      "outputs": [
        {
          "output_type": "stream",
          "text": [
            "Epoch 1/10\n",
            "1295/1295 [==============================] - 52s 7ms/step - loss: 1.9483 - accuracy: 0.5529 - val_loss: 0.4015 - val_accuracy: 0.9161\n",
            "Epoch 2/10\n",
            "1295/1295 [==============================] - 8s 7ms/step - loss: 0.3038 - accuracy: 0.9318 - val_loss: 0.3157 - val_accuracy: 0.9263\n",
            "Epoch 3/10\n",
            "1295/1295 [==============================] - 8s 6ms/step - loss: 0.1309 - accuracy: 0.9692 - val_loss: 0.1784 - val_accuracy: 0.9633\n",
            "Epoch 4/10\n",
            "1295/1295 [==============================] - 8s 6ms/step - loss: 0.0812 - accuracy: 0.9805 - val_loss: 0.3473 - val_accuracy: 0.9558\n",
            "Epoch 5/10\n",
            "1295/1295 [==============================] - 9s 7ms/step - loss: 0.0740 - accuracy: 0.9842 - val_loss: 0.2691 - val_accuracy: 0.9512\n",
            "Epoch 6/10\n",
            "1295/1295 [==============================] - 8s 6ms/step - loss: 0.0474 - accuracy: 0.9886 - val_loss: 0.1904 - val_accuracy: 0.9635\n",
            "Epoch 7/10\n",
            "1295/1295 [==============================] - 9s 7ms/step - loss: 0.0333 - accuracy: 0.9916 - val_loss: 0.1576 - val_accuracy: 0.9694\n",
            "Epoch 8/10\n",
            "1295/1295 [==============================] - 9s 7ms/step - loss: 0.0411 - accuracy: 0.9912 - val_loss: 0.0906 - val_accuracy: 0.9834\n",
            "Epoch 9/10\n",
            "1295/1295 [==============================] - 8s 7ms/step - loss: 0.0230 - accuracy: 0.9945 - val_loss: 0.1068 - val_accuracy: 0.9796\n",
            "Epoch 10/10\n",
            "1295/1295 [==============================] - 9s 7ms/step - loss: 0.0222 - accuracy: 0.9956 - val_loss: 0.1161 - val_accuracy: 0.9766\n"
          ],
          "name": "stdout"
        }
      ]
    },
    {
      "cell_type": "code",
      "metadata": {
        "colab": {
          "base_uri": "https://localhost:8080/",
          "height": 530
        },
        "id": "87Xb7MPx7sRc",
        "outputId": "f3f38655-36e5-43ed-cba8-20dfcd919f29"
      },
      "source": [
        "plt.rcParams[\"figure.figsize\"] = (8,8)\n",
        "plt.plot(history.history['accuracy'])\n",
        "plt.plot(history.history['val_accuracy'])\n",
        "plt.legend(['training', 'validation'])\n",
        "plt.title('Accuracy')\n",
        "plt.xlabel('epoch')"
      ],
      "execution_count": 47,
      "outputs": [
        {
          "output_type": "execute_result",
          "data": {
            "text/plain": [
              "Text(0.5, 0, 'epoch')"
            ]
          },
          "metadata": {
            "tags": []
          },
          "execution_count": 47
        },
        {
          "output_type": "display_data",
          "data": {
            "image/png": "[encoded data removed]",
            "text/plain": [
              "<Figure size 576x576 with 1 Axes>"
            ]
          },
          "metadata": {
            "tags": [],
            "needs_background": "light"
          }
        }
      ]
    },
    {
      "cell_type": "code",
      "metadata": {
        "colab": {
          "base_uri": "https://localhost:8080/",
          "height": 530
        },
        "id": "dGmL4qDs8qTP",
        "outputId": "4359520c-d4c7-45b2-c827-29fdf4fe5c5f"
      },
      "source": [
        "plt.rcParams[\"figure.figsize\"] = (8,8)\n",
        "plt.plot(history.history['loss'])\n",
        "plt.plot(history.history['val_loss'])\n",
        "plt.legend(['training', 'validation'])\n",
        "plt.title('Loss')\n",
        "plt.xlabel('epoch')"
      ],
      "execution_count": 48,
      "outputs": [
        {
          "output_type": "execute_result",
          "data": {
            "text/plain": [
              "Text(0.5, 0, 'epoch')"
            ]
          },
          "metadata": {
            "tags": []
          },
          "execution_count": 48
        },
        {
          "output_type": "display_data",
          "data": {
            "image/png": "[encoded data removed]",
            "text/plain": [
              "<Figure size 576x576 with 1 Axes>"
            ]
          },
          "metadata": {
            "tags": [],
            "needs_background": "light"
          }
        }
      ]
    },
    {
      "cell_type": "code",
      "metadata": {
        "colab": {
          "base_uri": "https://localhost:8080/"
        },
        "id": "D1IU8K028sow",
        "outputId": "c1adf784-5f73-4936-8676-108000362821"
      },
      "source": [
        "X_test = test['features']\n",
        "y_test = test['labels']\n",
        "\n",
        "X_test = np.array(X_test)\n",
        "y_test = np.array(y_test)\n",
        "\n",
        "print(X_test.shape)\n",
        "print(y_test.shape)"
      ],
      "execution_count": 49,
      "outputs": [
        {
          "output_type": "stream",
          "text": [
            "(12630, 32, 32, 3)\n",
            "(12630,)\n"
          ],
          "name": "stdout"
        }
      ]
    },
    {
      "cell_type": "code",
      "metadata": {
        "id": "lltxk9YF8urK"
      },
      "source": [
        "y_test = labels_to_one_hot(y_test, 43)\n"
      ],
      "execution_count": 50,
      "outputs": []
    },
    {
      "cell_type": "code",
      "metadata": {
        "colab": {
          "base_uri": "https://localhost:8080/",
          "height": 518
        },
        "id": "qU631aPL85wf",
        "outputId": "c365db50-a27b-47bf-ebb1-603cfd3ee3bc"
      },
      "source": [
        "index = random.randint(0,len(X_test)-1)\n",
        "img_testing = X_test[index]\n",
        "label_testing = y_test[index]\n",
        "\n",
        "plt.imshow(img_testing)\n",
        "print (\"Actual: \", np.argmax(label_testing))\n",
        "img_testing = img_testing.reshape(-1, WIDTH,HEIGHT,3)\n",
        "\n",
        "print (\"Prediction: \", np.argmax(model.predict(img_testing)))"
      ],
      "execution_count": 51,
      "outputs": [
        {
          "output_type": "stream",
          "text": [
            "Actual:  4\n",
            "Prediction:  4\n"
          ],
          "name": "stdout"
        },
        {
          "output_type": "display_data",
          "data": {
            "image/png": "[encoded data removed]",
            "text/plain": [
              "<Figure size 576x576 with 1 Axes>"
            ]
          },
          "metadata": {
            "tags": [],
            "needs_background": "light"
          }
        }
      ]
    },
    {
      "cell_type": "code",
      "metadata": {
        "colab": {
          "base_uri": "https://localhost:8080/"
        },
        "id": "-2_zj7aN8_HE",
        "outputId": "70c3872d-ed7a-49b0-f033-8ecb136f85ad"
      },
      "source": [
        "# Evaluate the model on the test data using `evaluate`\n",
        "print(\"Evaluate on test data\")\n",
        "results = model.evaluate(X_test, y_test)\n",
        "print(\"test loss, test acc:\", results)"
      ],
      "execution_count": 52,
      "outputs": [
        {
          "output_type": "stream",
          "text": [
            "Evaluate on test data\n",
            "395/395 [==============================] - 1s 4ms/step - loss: 0.3282 - accuracy: 0.9465\n",
            "test loss, test acc: [0.3281608819961548, 0.9464766383171082]\n"
          ],
          "name": "stdout"
        }
      ]
    },
    {
      "cell_type": "code",
      "metadata": {
        "id": "gsX8-FRO-QId"
      },
      "source": [
        "from pydrive.auth import GoogleAuth\n",
        "from pydrive.drive import GoogleDrive\n",
        "from google.colab import auth\n",
        "from oauth2client.client import GoogleCredentials"
      ],
      "execution_count": 54,
      "outputs": []
    },
    {
      "cell_type": "code",
      "metadata": {
        "id": "4rvknn9U-Rmu"
      },
      "source": [
        "auth.authenticate_user()\n",
        "gauth = GoogleAuth()\n",
        "gauth.credentials = GoogleCredentials.get_application_default()\n",
        "drive = GoogleDrive(gauth)"
      ],
      "execution_count": 55,
      "outputs": []
    },
    {
      "cell_type": "code",
      "metadata": {
        "id": "sTDMtXpe-cvK"
      },
      "source": [
        "model.save('Traffic_classify.h5')    \n",
        "model_file = drive.CreateFile({'title' : 'Traffic_classify.h5'})\n",
        "model_file.SetContentFile('Traffic_classify.h5')\n",
        "model_file.Upload()"
      ],
      "execution_count": 56,
      "outputs": []
    },
    {
      "cell_type": "code",
      "metadata": {
        "colab": {
          "base_uri": "https://localhost:8080/"
        },
        "id": "UsLAP1_a-x4L",
        "outputId": "dbe416e1-1489-4d87-8fa4-c755d5995757"
      },
      "source": [
        "drive.CreateFile({'id': model_file.get('id')})\n"
      ],
      "execution_count": 57,
      "outputs": [
        {
          "output_type": "execute_result",
          "data": {
            "text/plain": [
              "GoogleDriveFile({'id': '1cvF1vCf1SJOPxDLlLHOrkYEOg_2yoyHL'})"
            ]
          },
          "metadata": {
            "tags": []
          },
          "execution_count": 57
        }
      ]
    },
    {
      "cell_type": "code",
      "metadata": {
        "id": "EHPEwGoW9Cj5"
      },
      "source": [
        "model.save('traffic_Classify.h5')"
      ],
      "execution_count": 53,
      "outputs": []
    },
    {
      "cell_type": "code",
      "metadata": {
        "id": "4KT4cQkB9HiM"
      },
      "source": [
        ""
      ],
      "execution_count": null,
      "outputs": []
    }
  ]
}